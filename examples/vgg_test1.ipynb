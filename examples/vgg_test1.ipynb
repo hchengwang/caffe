{
 "cells": [
  {
   "cell_type": "markdown",
   "metadata": {},
   "source": [
    "# Classification: Instant Recognition with Caffe\n",
    "\n",
    "In this example we'll classify an image with the vgg_dicenet model (which is based on the network architecture of Jaderberg et al. in NIPS 2014). It is a very large convolutional neural network to perform word recognition on pre-segmented word images. The network is trained solely on data produced by a synthetic text generation engine, requiring no human labelled data.\n",
    "\n",
    "We'll compare CPU and GPU modes and then dig into the model to inspect features and the output."
   ]
  },
  {
   "cell_type": "markdown",
   "metadata": {},
   "source": [
    "### 1. Setup\n",
    "\n",
    "* First, set up Python, `numpy`, and `matplotlib`."
   ]
  },
  {
   "cell_type": "code",
   "execution_count": 1,
   "metadata": {
    "collapsed": false
   },
   "outputs": [],
   "source": [
    "# set up Python environment: numpy for numerical routines, and matplotlib for plotting\n",
    "import numpy as np\n",
    "import matplotlib.pyplot as plt\n",
    "import time\n",
    "# display plots in this notebook\n",
    "%matplotlib inline\n",
    "\n",
    "# set display defaults\n",
    "plt.rcParams['figure.figsize'] = (10, 10)        # large images\n",
    "plt.rcParams['image.interpolation'] = 'nearest'  # don't interpolate: show square pixels\n",
    "plt.rcParams['image.cmap'] = 'gray'  # use grayscale output rather than a (potentially misleading) color heatmap"
   ]
  },
  {
   "cell_type": "markdown",
   "metadata": {},
   "source": [
    "* Load `caffe`."
   ]
  },
  {
   "cell_type": "code",
   "execution_count": 2,
   "metadata": {
    "collapsed": false
   },
   "outputs": [],
   "source": [
    "# The caffe module needs to be on the Python path;\n",
    "#  we'll add it here explicitly.\n",
    "import sys\n",
    "caffe_root = '../'  # this file should be run from {caffe_root}/examples (otherwise change this line)\n",
    "sys.path.insert(0, caffe_root + 'python')\n",
    "\n",
    "import caffe\n",
    "# If you get \"No module named _caffe\", either you have not built pycaffe or you have the wrong path."
   ]
  },
  {
   "cell_type": "markdown",
   "metadata": {},
   "source": [
    "* Assume you have the vgg_dictnet."
   ]
  },
  {
   "cell_type": "code",
   "execution_count": 3,
   "metadata": {
    "collapsed": false
   },
   "outputs": [
    {
     "name": "stdout",
     "output_type": "stream",
     "text": [
      "VGG Models found.\n"
     ]
    }
   ],
   "source": [
    "import os\n",
    "if os.path.isfile(caffe_root + 'data/vgg_data/dictnet_vgg.caffemodel'):\n",
    "    print 'VGG Models found.'\n",
    "else:\n",
    "    print 'Downloading pre-trained VGG models...'\n",
    "    !wget vgg_models.tar.gz -O https://www.dropbox.com/s/v1avmkm7q2i6d1e/vgg_models.tar.gz?dl=0\n",
    "    !tar xvf vgg_models.tar.gz"
   ]
  },
  {
   "cell_type": "markdown",
   "metadata": {},
   "source": [
    "### 2. Load net and set up input preprocessing\n",
    "\n",
    "* Set Caffe to CPU or GPU mode and load the net from disk."
   ]
  },
  {
   "cell_type": "code",
   "execution_count": 4,
   "metadata": {
    "collapsed": false
   },
   "outputs": [
    {
     "name": "stdout",
     "output_type": "stream",
     "text": [
      "../data/vgg_data/dictnet_vgg_deploy.prototxt\n",
      "../data/vgg_data/dictnet_vgg.caffemodel\n"
     ]
    }
   ],
   "source": [
    "caffe.set_device(0)  # if we have multiple GPUs, pick the first one\n",
    "caffe.set_mode_gpu()\n",
    "# caffe.set_mode_cpu()\n",
    "\n",
    "model_def = caffe_root + 'data/vgg_data/dictnet_vgg_deploy.prototxt'\n",
    "model_weights = caffe_root + 'data/vgg_data/dictnet_vgg.caffemodel'\n",
    "print model_def\n",
    "print model_weights\n",
    "\n",
    "net = caffe.Net(model_def,      # defines the structure of the model#\n",
    "                model_weights,  # contains the trained weights\n",
    "                caffe.TEST)     # use test mode (e.g., don't perform dropout)"
   ]
  },
  {
   "cell_type": "markdown",
   "metadata": {},
   "source": [
    "#### net.blobs\n",
    "For input data and its propagation in the layers\n",
    "(batch_size, channel_dim, height, width)."
   ]
  },
  {
   "cell_type": "code",
   "execution_count": 5,
   "metadata": {
    "collapsed": false
   },
   "outputs": [
    {
     "name": "stdout",
     "output_type": "stream",
     "text": [
      "data\t(1, 1, 32, 100)\n",
      "conv1\t(1, 64, 32, 100)\n",
      "pool1\t(1, 64, 16, 50)\n",
      "conv2\t(1, 128, 16, 50)\n",
      "pool2\t(1, 128, 8, 25)\n",
      "conv3\t(1, 256, 8, 25)\n",
      "conv3_5\t(1, 512, 8, 25)\n",
      "pool3\t(1, 512, 4, 13)\n",
      "conv4\t(1, 512, 4, 13)\n",
      "fc1\t(1, 4096, 1, 1)\n",
      "fc2\t(1, 4096, 1, 1)\n",
      "fc_class\t(1, 88172, 1, 1)\n",
      "prob\t(1, 88172, 1, 1)\n"
     ]
    }
   ],
   "source": [
    "# for each layer, show the output shape\n",
    "for layer_name, blob in net.blobs.iteritems():\n",
    "    print layer_name + '\\t' + str(blob.data.shape)"
   ]
  },
  {
   "cell_type": "markdown",
   "metadata": {},
   "source": [
    "#### net.params\n",
    "* Weights: index `[0]`, `(output_channels, input_channels, filter_height, filter_width)`\n",
    "* biases: index `[1]`, `(output_channels,)`"
   ]
  },
  {
   "cell_type": "code",
   "execution_count": 7,
   "metadata": {
    "collapsed": false
   },
   "outputs": [
    {
     "name": "stdout",
     "output_type": "stream",
     "text": [
      "conv1\t(64, 1, 5, 5) (64,)\t1664\n",
      "conv2\t(128, 64, 5, 5) (128,)\t204928\n",
      "conv3\t(256, 128, 3, 3) (256,)\t295168\n",
      "conv3_5\t(512, 256, 3, 3) (512,)\t1180160\n",
      "conv4\t(512, 512, 3, 3) (512,)\t2359808\n",
      "fc1\t(4096, 512, 4, 13) (4096,)\t109056000\n",
      "fc2\t(4096, 4096, 1, 1) (4096,)\t16781312\n",
      "fc_class\t(88172, 4096, 1, 1) (88172,)\t361240684\n",
      "Total Parameters: 491.119724 millions\n",
      "Require Memory: 491.119724 GB\n"
     ]
    }
   ],
   "source": [
    "total_param = 0\n",
    "for layer_name, param in net.params.iteritems():\n",
    "    param_num = param[0].data.shape[0] * param[0].data.shape[1] * param[0].data.shape[2] * param[0].data.shape[3]\n",
    "    param_num += param[1].data.shape[0]\n",
    "    total_param += param_num\n",
    "    print layer_name + '\\t' + str(param[0].data.shape), str(param[1].data.shape) + '\\t' + str(param_num)\n",
    "print 'Total Parameters: ' + str(total_param * 0.000001) + ' millions'\n",
    "print 'Require Memory: ' + str(total_param * 0.000001) + ' GB'"
   ]
  },
  {
   "cell_type": "code",
   "execution_count": 8,
   "metadata": {
    "collapsed": true
   },
   "outputs": [],
   "source": [
    "# create transformer for the input called 'data'\n",
    "transformer = caffe.io.Transformer({'data': net.blobs['data'].data.shape})\n",
    "\n",
    "transformer.set_transpose('data', (2,0,1))  # move image channels to outermost dimension"
   ]
  },
  {
   "cell_type": "markdown",
   "metadata": {},
   "source": [
    "### 3. Classification\n",
    "\n",
    "* Now we're ready to perform classification. Even though we'll only classify one image, we'll set a batch size of 1 to demonstrate batching."
   ]
  },
  {
   "cell_type": "code",
   "execution_count": 9,
   "metadata": {
    "collapsed": false
   },
   "outputs": [],
   "source": [
    "# set the size of the input (we can skip this if we're happy\n",
    "#  with the default; we can also change it later, e.g., for different batch sizes)\n",
    "net.blobs['data'].reshape(1,        # batch size\n",
    "                          1,         # 1-channel gray images\n",
    "                          32, 100)  # image size is 32x100"
   ]
  },
  {
   "cell_type": "markdown",
   "metadata": {},
   "source": [
    "* Load an image and perform the preprocessing we've set up."
   ]
  },
  {
   "cell_type": "code",
   "execution_count": null,
   "metadata": {
    "collapsed": false
   },
   "outputs": [],
   "source": [
    "\n",
    "\n",
    "in_data = open('images/2016-06-28/output_files_poses_labels_list.txt','rb')\n",
    "out_data = open('images/2016-06-28/all_predict.txt','wb')\n",
    "\n",
    "count = 0\n",
    "ts = time.time()\n",
    "while True:\n",
    "    content = in_data.readline()\n",
    "    if content == \"\":\n",
    "        break\n",
    "    #read filename\n",
    "    j = 0\n",
    "    s = 0\n",
    "    fg = 0\n",
    "    while True:\n",
    "        if fg == 0 and content[j] == ',':\n",
    "            s = j +1\n",
    "            fg = 1\n",
    "        elif fg == 1 and content[j] == ',':\n",
    "            break\n",
    "        j = j + 1\n",
    "    filename = content[s:j]\n",
    "    print filename\n",
    "    img_path = caffe_root + 'examples/images/2016-06-28/' + filename\n",
    "    image_rgb = caffe.io.load_image(img_path)\n",
    "    transformed_image = transformer.preprocess('data', image_rgb)\n",
    "    plt.imshow(image_rgb)\n",
    "\n",
    "    image = caffe.io.load_image(img_path, False)\n",
    "    transformed_image = transformer.preprocess('data', image)\n",
    "    # plt.imshow(image)\n",
    "\n",
    "    # copy the image data into the memory allocated for the net\n",
    "    net.blobs['data'].data[...] = transformed_image\n",
    "    right_class = 0\n",
    "    ### perform classification\n",
    "    if content[0] == \"0\" and content[1] == \"_\":\n",
    "        right_class = 52089\n",
    "    elif content[0] == \"1\" and content[1] == \"_\":\n",
    "        right_class = 71726\n",
    "    elif content[0] == \"2\" and content[1] == \"_\":\n",
    "        right_class = 6486\n",
    "    elif content[0] == \"3\" and content[1] == \"_\":\n",
    "        right_class = 49401\n",
    "    elif content[0] == \"4\" and content[1] == \"_\":\n",
    "        right_class = 40356\n",
    "    elif content[0] == \"5\" and content[1] == \"_\":\n",
    "        right_class = 43383\n",
    "    elif content[0] == \"6\" and content[1] == \"_\":\n",
    "        right_class = 17803\n",
    "    elif content[0] == \"7\" and content[1] == \"_\":\n",
    "        right_class = 14662\n",
    "    elif content[0] == \"8\" and content[1] == \"_\":\n",
    "        right_class = 3685\n",
    "    elif content[0] == \"9\" and content[1] == \"_\":\n",
    "        right_class = 48035\n",
    "    elif content[0] == \"1\" and content[1] == \"1\":\n",
    "        right_class = 41013     \n",
    "    elif content[0] == \"1\" and content[1] == \"2\":\n",
    "        right_class = 30822\n",
    "    elif content[0] == \"1\" and content[1] == \"4\":\n",
    "        right_class = 36105\n",
    "    elif content[0] == \"1\" and content[1] == \"5\":\n",
    "        right_class = 35242\n",
    "    elif content[0] == \"1\" and content[1] == \"6\":\n",
    "        right_class = 8094\n",
    "    elif content[0] == \"1\" and content[1] == \"8\":\n",
    "        right_class = 5356\n",
    "    elif content[0] == \"1\" and content[1] == \"9\":\n",
    "        right_class = 6486\n",
    "    elif content[0] == \"2\" and content[1] == \"0\":\n",
    "        right_class = 38122\n",
    "    elif content[0] == \"2\" and content[1] == \"2\":\n",
    "        right_class = 14980\n",
    "    elif content[0] == \"2\" and content[1] == \"3\":\n",
    "        right_class = 39995\n",
    "    elif content[0] == \"2\" and content[1] == \"4\":\n",
    "        right_class = 43602\n",
    "    elif content[0] == \"2\" and content[1] == \"5\":\n",
    "        right_class = 6106\n",
    "    elif content[0] == \"2\" and content[1] == \"6\":\n",
    "        right_class = 24518\n",
    "    elif content[0] == \"2\" and content[1] == \"7\":\n",
    "        right_class = 55898\n",
    "    elif content[0] == \"2\" and content[1] == \"8\":\n",
    "        right_class = 51196\n",
    "    elif content[0] == \"2\" and content[1] == \"9\":\n",
    "        right_class = 13048\n",
    "    \n",
    "    \n",
    "    right_index=0\n",
    "    \n",
    "    output = net.forward()\n",
    "    ans = output['prob'][0]\n",
    "    print ans.argmax()\n",
    "    \n",
    "    first_prob = ans.argmax()\n",
    "    ans[first_prob]=0\n",
    "    \n",
    "    if first_prob == right_class:\n",
    "        right_index = 1        \n",
    "    \n",
    "    second_prob = ans.argmax()\n",
    "    ans[second_prob]=0\n",
    "    \n",
    "    if second_prob == right_class:\n",
    "        right_index = 2  \n",
    "    \n",
    "    third_prob = ans.argmax()\n",
    "    ans[third_prob]=0\n",
    "    \n",
    "    if third_prob == right_class:\n",
    "        right_index = 3  \n",
    "    \n",
    "    forth_prob = ans.argmax()\n",
    "    ans[forth_prob]=0\n",
    "    \n",
    "    if forth_prob == right_class:\n",
    "        right_index = 4  \n",
    "    \n",
    "    fifth_prob = ans.argmax()\n",
    "    ans[fifth_prob]=0\n",
    "    \n",
    "    if fifth_prob == right_class:\n",
    "        right_index = 5\n",
    "    \n",
    "    fg = 0\n",
    "    if right_index == 0:\n",
    "        fg = 1\n",
    "        right_index = 5\n",
    "\n",
    "    \n",
    "#     while fg == 1:\n",
    "#         right_index = right_index + 1\n",
    "#         tmp = ans.argmax()\n",
    "        \n",
    "#         if tmp == right_class:\n",
    "#             break\n",
    "#         ans[tmp]=0\n",
    "        \n",
    "    \n",
    "    \n",
    "    \n",
    "    \n",
    "\n",
    "    # load ImageNet labels\n",
    "    labels_file = caffe_root + 'models/vgg_dictnet/dictnet_vgg_labels.txt'\n",
    "    if not os.path.exists(labels_file):\n",
    "        print 'label file does not exist'\n",
    "\n",
    "    labels = np.loadtxt(labels_file, str, delimiter='\\t')\n",
    "    print count\n",
    "    out_data.write(content[:-1] + labels[first_prob].upper() + ','+ labels[second_prob].upper() + ',' + labels[third_prob].upper() +','+ labels[forth_prob].upper() +','+ labels[fifth_prob].upper() +'\\n')\n",
    "    count = count + 1\n",
    "te = time.time()\n",
    "\n",
    "out_data.close()\n",
    "print \"End!\",str(te-ts)"
   ]
  },
  {
   "cell_type": "markdown",
   "metadata": {},
   "source": [
    "* Let's also look at other top (but less confident predictions)."
   ]
  },
  {
   "cell_type": "code",
   "execution_count": 13,
   "metadata": {
    "collapsed": false
   },
   "outputs": [
    {
     "name": "stdout",
     "output_type": "stream",
     "text": [
      "[23894, 49466, 16151]\n",
      "probabilities and labels:\n"
     ]
    },
    {
     "data": {
      "text/plain": [
       "[(array([[  1.20096647e-05]], dtype=float32), 'xxi'),\n",
       " (array([[  1.19968663e-05]], dtype=float32), '1957'),\n",
       " (array([[  1.19438946e-05]], dtype=float32), 'ion')]"
      ]
     },
     "execution_count": 13,
     "metadata": {},
     "output_type": "execute_result"
    }
   ],
   "source": [
    "# sort top five predictions from softmax output\n",
    "import heapq\n",
    "top_inds = heapq.nlargest(3, range(len(output_prob)), output_prob.take)  # reverse sort and take five largest items\n",
    "print top_inds\n",
    "\n",
    "print 'probabilities and labels:'\n",
    "zip(output_prob[top_inds], labels[top_inds])"
   ]
  },
  {
   "cell_type": "markdown",
   "metadata": {},
   "source": [
    "* We see that less confident predictions are sensible."
   ]
  },
  {
   "cell_type": "markdown",
   "metadata": {},
   "source": [
    "### 4. Switching to GPU mode\n",
    "\n",
    "* Let's see how long classification took, and compare it to GPU mode."
   ]
  },
  {
   "cell_type": "code",
   "execution_count": 14,
   "metadata": {
    "collapsed": false
   },
   "outputs": [
    {
     "name": "stdout",
     "output_type": "stream",
     "text": [
      "10 loops, best of 3: 29.8 ms per loop\n"
     ]
    }
   ],
   "source": [
    "%timeit net.forward()"
   ]
  },
  {
   "cell_type": "markdown",
   "metadata": {},
   "source": [
    "* That's a while, even for a batch of 50 images. Let's switch to GPU mode."
   ]
  },
  {
   "cell_type": "code",
   "execution_count": 15,
   "metadata": {
    "collapsed": false
   },
   "outputs": [
    {
     "name": "stdout",
     "output_type": "stream",
     "text": [
      "10 loops, best of 3: 29.8 ms per loop\n"
     ]
    }
   ],
   "source": [
    "caffe.set_device(0)  # if we have multiple GPUs, pick the first one\n",
    "caffe.set_mode_gpu()\n",
    "net.forward()  # run once before timing to set up memory\n",
    "%timeit net.forward()"
   ]
  },
  {
   "cell_type": "markdown",
   "metadata": {},
   "source": [
    "* That should be much faster!"
   ]
  },
  {
   "cell_type": "markdown",
   "metadata": {},
   "source": [
    "### 5. Examining intermediate output\n",
    "\n",
    "* A net is not just a black box; let's take a look at some of the parameters and intermediate activations.\n",
    "\n",
    "First we'll see how to read out the structure of the net in terms of activation and parameter shapes.\n",
    "\n",
    "* For each layer, let's look at the activation shapes, which typically have the form `(batch_size, channel_dim, height, width)`.\n",
    "\n",
    "    The activations are exposed as an `OrderedDict`, `net.blobs`."
   ]
  },
  {
   "cell_type": "code",
   "execution_count": 16,
   "metadata": {
    "collapsed": false
   },
   "outputs": [
    {
     "name": "stdout",
     "output_type": "stream",
     "text": [
      "data\t(1, 1, 32, 100)\n",
      "conv1\t(1, 64, 32, 100)\n",
      "pool1\t(1, 64, 16, 50)\n",
      "conv2\t(1, 128, 16, 50)\n",
      "pool2\t(1, 128, 8, 25)\n",
      "conv3\t(1, 256, 8, 25)\n",
      "conv3_5\t(1, 512, 8, 25)\n",
      "pool3\t(1, 512, 4, 13)\n",
      "conv4\t(1, 512, 4, 13)\n",
      "fc1\t(1, 4096, 1, 1)\n",
      "fc2\t(1, 4096, 1, 1)\n",
      "fc_class\t(1, 88172, 1, 1)\n",
      "prob\t(1, 88172, 1, 1)\n"
     ]
    }
   ],
   "source": [
    "# for each layer, show the output shape\n",
    "for layer_name, blob in net.blobs.iteritems():\n",
    "    print layer_name + '\\t' + str(blob.data.shape)"
   ]
  },
  {
   "cell_type": "code",
   "execution_count": 17,
   "metadata": {
    "collapsed": false
   },
   "outputs": [
    {
     "name": "stdout",
     "output_type": "stream",
     "text": [
      "conv1\t(64, 1, 5, 5) (64,)\n",
      "conv2\t(128, 64, 5, 5) (128,)\n",
      "conv3\t(256, 128, 3, 3) (256,)\n",
      "conv3_5\t(512, 256, 3, 3) (512,)\n",
      "conv4\t(512, 512, 3, 3) (512,)\n",
      "fc1\t(4096, 512, 4, 13) (4096,)\n",
      "fc2\t(4096, 4096, 1, 1) (4096,)\n",
      "fc_class\t(88172, 4096, 1, 1) (88172,)\n"
     ]
    }
   ],
   "source": [
    "for layer_name, param in net.params.iteritems():\n",
    "    print layer_name + '\\t' + str(param[0].data.shape), str(param[1].data.shape)"
   ]
  },
  {
   "cell_type": "markdown",
   "metadata": {},
   "source": [
    "* Since we're dealing with four-dimensional data here, we'll define a helper function for visualizing sets of rectangular heatmaps."
   ]
  },
  {
   "cell_type": "code",
   "execution_count": 18,
   "metadata": {
    "collapsed": false
   },
   "outputs": [],
   "source": [
    "def vis_square(data):\n",
    "    \"\"\"Take an array of shape (n, height, width) or (n, height, width, 3)\n",
    "       and visualize each (height, width) thing in a grid of size approx. sqrt(n) by sqrt(n)\"\"\"\n",
    "    \n",
    "    # normalize data for display\n",
    "    data = (data - data.min()) / (data.max() - data.min())\n",
    "    \n",
    "    # force the number of filters to be square\n",
    "    n = int(np.ceil(np.sqrt(data.shape[0])))\n",
    "    padding = (((0, n ** 2 - data.shape[0]),\n",
    "               (0, 1), (0, 1))                 # add some space between filters\n",
    "               + ((0, 0),) * (data.ndim - 3))  # don't pad the last dimension (if there is one)\n",
    "    data = np.pad(data, padding, mode='constant', constant_values=1)  # pad with ones (white)\n",
    "    \n",
    "    # tile the filters into an image\n",
    "    data = data.reshape((n, n) + data.shape[1:]).transpose((0, 2, 1, 3) + tuple(range(4, data.ndim + 1)))\n",
    "    data = data.reshape((n * data.shape[1], n * data.shape[3]) + data.shape[4:])\n",
    "    \n",
    "    plt.imshow(data); plt.axis('off')"
   ]
  },
  {
   "cell_type": "markdown",
   "metadata": {},
   "source": [
    "* First we'll look at the first layer filters, `conv1`"
   ]
  },
  {
   "cell_type": "code",
   "execution_count": 19,
   "metadata": {
    "collapsed": false
   },
   "outputs": [
    {
     "ename": "TypeError",
     "evalue": "Invalid dimensions for image data",
     "output_type": "error",
     "traceback": [
      "\u001b[1;31m---------------------------------------------------------------------------\u001b[0m",
      "\u001b[1;31mTypeError\u001b[0m                                 Traceback (most recent call last)",
      "\u001b[1;32m<ipython-input-19-4e903410e39f>\u001b[0m in \u001b[0;36m<module>\u001b[1;34m()\u001b[0m\n\u001b[0;32m      1\u001b[0m \u001b[1;31m# the parameters are a list of [weights, biases]\u001b[0m\u001b[1;33m\u001b[0m\u001b[1;33m\u001b[0m\u001b[0m\n\u001b[0;32m      2\u001b[0m \u001b[0mfilters\u001b[0m \u001b[1;33m=\u001b[0m \u001b[0mnet\u001b[0m\u001b[1;33m.\u001b[0m\u001b[0mparams\u001b[0m\u001b[1;33m[\u001b[0m\u001b[1;34m'conv1'\u001b[0m\u001b[1;33m]\u001b[0m\u001b[1;33m[\u001b[0m\u001b[1;36m0\u001b[0m\u001b[1;33m]\u001b[0m\u001b[1;33m.\u001b[0m\u001b[0mdata\u001b[0m\u001b[1;33m\u001b[0m\u001b[0m\n\u001b[1;32m----> 3\u001b[1;33m \u001b[0mvis_square\u001b[0m\u001b[1;33m(\u001b[0m\u001b[0mfilters\u001b[0m\u001b[1;33m.\u001b[0m\u001b[0mtranspose\u001b[0m\u001b[1;33m(\u001b[0m\u001b[1;36m0\u001b[0m\u001b[1;33m,\u001b[0m \u001b[1;36m2\u001b[0m\u001b[1;33m,\u001b[0m \u001b[1;36m3\u001b[0m\u001b[1;33m,\u001b[0m \u001b[1;36m1\u001b[0m\u001b[1;33m)\u001b[0m\u001b[1;33m)\u001b[0m\u001b[1;33m\u001b[0m\u001b[0m\n\u001b[0m",
      "\u001b[1;32m<ipython-input-18-e559bc2cc0a3>\u001b[0m in \u001b[0;36mvis_square\u001b[1;34m(data)\u001b[0m\n\u001b[0;32m     17\u001b[0m     \u001b[0mdata\u001b[0m \u001b[1;33m=\u001b[0m \u001b[0mdata\u001b[0m\u001b[1;33m.\u001b[0m\u001b[0mreshape\u001b[0m\u001b[1;33m(\u001b[0m\u001b[1;33m(\u001b[0m\u001b[0mn\u001b[0m \u001b[1;33m*\u001b[0m \u001b[0mdata\u001b[0m\u001b[1;33m.\u001b[0m\u001b[0mshape\u001b[0m\u001b[1;33m[\u001b[0m\u001b[1;36m1\u001b[0m\u001b[1;33m]\u001b[0m\u001b[1;33m,\u001b[0m \u001b[0mn\u001b[0m \u001b[1;33m*\u001b[0m \u001b[0mdata\u001b[0m\u001b[1;33m.\u001b[0m\u001b[0mshape\u001b[0m\u001b[1;33m[\u001b[0m\u001b[1;36m3\u001b[0m\u001b[1;33m]\u001b[0m\u001b[1;33m)\u001b[0m \u001b[1;33m+\u001b[0m \u001b[0mdata\u001b[0m\u001b[1;33m.\u001b[0m\u001b[0mshape\u001b[0m\u001b[1;33m[\u001b[0m\u001b[1;36m4\u001b[0m\u001b[1;33m:\u001b[0m\u001b[1;33m]\u001b[0m\u001b[1;33m)\u001b[0m\u001b[1;33m\u001b[0m\u001b[0m\n\u001b[0;32m     18\u001b[0m \u001b[1;33m\u001b[0m\u001b[0m\n\u001b[1;32m---> 19\u001b[1;33m     \u001b[0mplt\u001b[0m\u001b[1;33m.\u001b[0m\u001b[0mimshow\u001b[0m\u001b[1;33m(\u001b[0m\u001b[0mdata\u001b[0m\u001b[1;33m)\u001b[0m\u001b[1;33m;\u001b[0m \u001b[0mplt\u001b[0m\u001b[1;33m.\u001b[0m\u001b[0maxis\u001b[0m\u001b[1;33m(\u001b[0m\u001b[1;34m'off'\u001b[0m\u001b[1;33m)\u001b[0m\u001b[1;33m\u001b[0m\u001b[0m\n\u001b[0m",
      "\u001b[1;32m/home/joinet/anaconda2/lib/python2.7/site-packages/matplotlib/pyplot.pyc\u001b[0m in \u001b[0;36mimshow\u001b[1;34m(X, cmap, norm, aspect, interpolation, alpha, vmin, vmax, origin, extent, shape, filternorm, filterrad, imlim, resample, url, hold, data, **kwargs)\u001b[0m\n\u001b[0;32m   3020\u001b[0m                         \u001b[0mfilternorm\u001b[0m\u001b[1;33m=\u001b[0m\u001b[0mfilternorm\u001b[0m\u001b[1;33m,\u001b[0m \u001b[0mfilterrad\u001b[0m\u001b[1;33m=\u001b[0m\u001b[0mfilterrad\u001b[0m\u001b[1;33m,\u001b[0m\u001b[1;33m\u001b[0m\u001b[0m\n\u001b[0;32m   3021\u001b[0m                         \u001b[0mimlim\u001b[0m\u001b[1;33m=\u001b[0m\u001b[0mimlim\u001b[0m\u001b[1;33m,\u001b[0m \u001b[0mresample\u001b[0m\u001b[1;33m=\u001b[0m\u001b[0mresample\u001b[0m\u001b[1;33m,\u001b[0m \u001b[0murl\u001b[0m\u001b[1;33m=\u001b[0m\u001b[0murl\u001b[0m\u001b[1;33m,\u001b[0m \u001b[0mdata\u001b[0m\u001b[1;33m=\u001b[0m\u001b[0mdata\u001b[0m\u001b[1;33m,\u001b[0m\u001b[1;33m\u001b[0m\u001b[0m\n\u001b[1;32m-> 3022\u001b[1;33m                         **kwargs)\n\u001b[0m\u001b[0;32m   3023\u001b[0m     \u001b[1;32mfinally\u001b[0m\u001b[1;33m:\u001b[0m\u001b[1;33m\u001b[0m\u001b[0m\n\u001b[0;32m   3024\u001b[0m         \u001b[0max\u001b[0m\u001b[1;33m.\u001b[0m\u001b[0mhold\u001b[0m\u001b[1;33m(\u001b[0m\u001b[0mwashold\u001b[0m\u001b[1;33m)\u001b[0m\u001b[1;33m\u001b[0m\u001b[0m\n",
      "\u001b[1;32m/home/joinet/anaconda2/lib/python2.7/site-packages/matplotlib/__init__.pyc\u001b[0m in \u001b[0;36minner\u001b[1;34m(ax, *args, **kwargs)\u001b[0m\n\u001b[0;32m   1810\u001b[0m                     warnings.warn(msg % (label_namer, func.__name__),\n\u001b[0;32m   1811\u001b[0m                                   RuntimeWarning, stacklevel=2)\n\u001b[1;32m-> 1812\u001b[1;33m             \u001b[1;32mreturn\u001b[0m \u001b[0mfunc\u001b[0m\u001b[1;33m(\u001b[0m\u001b[0max\u001b[0m\u001b[1;33m,\u001b[0m \u001b[1;33m*\u001b[0m\u001b[0margs\u001b[0m\u001b[1;33m,\u001b[0m \u001b[1;33m**\u001b[0m\u001b[0mkwargs\u001b[0m\u001b[1;33m)\u001b[0m\u001b[1;33m\u001b[0m\u001b[0m\n\u001b[0m\u001b[0;32m   1813\u001b[0m         \u001b[0mpre_doc\u001b[0m \u001b[1;33m=\u001b[0m \u001b[0minner\u001b[0m\u001b[1;33m.\u001b[0m\u001b[0m__doc__\u001b[0m\u001b[1;33m\u001b[0m\u001b[0m\n\u001b[0;32m   1814\u001b[0m         \u001b[1;32mif\u001b[0m \u001b[0mpre_doc\u001b[0m \u001b[1;32mis\u001b[0m \u001b[0mNone\u001b[0m\u001b[1;33m:\u001b[0m\u001b[1;33m\u001b[0m\u001b[0m\n",
      "\u001b[1;32m/home/joinet/anaconda2/lib/python2.7/site-packages/matplotlib/axes/_axes.pyc\u001b[0m in \u001b[0;36mimshow\u001b[1;34m(self, X, cmap, norm, aspect, interpolation, alpha, vmin, vmax, origin, extent, shape, filternorm, filterrad, imlim, resample, url, **kwargs)\u001b[0m\n\u001b[0;32m   4945\u001b[0m                               resample=resample, **kwargs)\n\u001b[0;32m   4946\u001b[0m \u001b[1;33m\u001b[0m\u001b[0m\n\u001b[1;32m-> 4947\u001b[1;33m         \u001b[0mim\u001b[0m\u001b[1;33m.\u001b[0m\u001b[0mset_data\u001b[0m\u001b[1;33m(\u001b[0m\u001b[0mX\u001b[0m\u001b[1;33m)\u001b[0m\u001b[1;33m\u001b[0m\u001b[0m\n\u001b[0m\u001b[0;32m   4948\u001b[0m         \u001b[0mim\u001b[0m\u001b[1;33m.\u001b[0m\u001b[0mset_alpha\u001b[0m\u001b[1;33m(\u001b[0m\u001b[0malpha\u001b[0m\u001b[1;33m)\u001b[0m\u001b[1;33m\u001b[0m\u001b[0m\n\u001b[0;32m   4949\u001b[0m         \u001b[1;32mif\u001b[0m \u001b[0mim\u001b[0m\u001b[1;33m.\u001b[0m\u001b[0mget_clip_path\u001b[0m\u001b[1;33m(\u001b[0m\u001b[1;33m)\u001b[0m \u001b[1;32mis\u001b[0m \u001b[0mNone\u001b[0m\u001b[1;33m:\u001b[0m\u001b[1;33m\u001b[0m\u001b[0m\n",
      "\u001b[1;32m/home/joinet/anaconda2/lib/python2.7/site-packages/matplotlib/image.pyc\u001b[0m in \u001b[0;36mset_data\u001b[1;34m(self, A)\u001b[0m\n\u001b[0;32m    451\u001b[0m         if (self._A.ndim not in (2, 3) or\n\u001b[0;32m    452\u001b[0m                 (self._A.ndim == 3 and self._A.shape[-1] not in (3, 4))):\n\u001b[1;32m--> 453\u001b[1;33m             \u001b[1;32mraise\u001b[0m \u001b[0mTypeError\u001b[0m\u001b[1;33m(\u001b[0m\u001b[1;34m\"Invalid dimensions for image data\"\u001b[0m\u001b[1;33m)\u001b[0m\u001b[1;33m\u001b[0m\u001b[0m\n\u001b[0m\u001b[0;32m    454\u001b[0m \u001b[1;33m\u001b[0m\u001b[0m\n\u001b[0;32m    455\u001b[0m         \u001b[0mself\u001b[0m\u001b[1;33m.\u001b[0m\u001b[0m_imcache\u001b[0m \u001b[1;33m=\u001b[0m \u001b[0mNone\u001b[0m\u001b[1;33m\u001b[0m\u001b[0m\n",
      "\u001b[1;31mTypeError\u001b[0m: Invalid dimensions for image data"
     ]
    },
    {
     "data": {
      "image/png": "[encoded data removed]",
      "text/plain": [
       "<matplotlib.figure.Figure at 0x7fc64c7fe510>"
      ]
     },
     "metadata": {},
     "output_type": "display_data"
    }
   ],
   "source": [
    "# the parameters are a list of [weights, biases]\n",
    "filters = net.params['conv1'][0].data\n",
    "vis_square(filters.transpose(0, 2, 3, 1))"
   ]
  },
  {
   "cell_type": "markdown",
   "metadata": {},
   "source": [
    "* The first layer output, `conv1` (rectified responses of the filters above, first 36 only)"
   ]
  },
  {
   "cell_type": "code",
   "execution_count": 20,
   "metadata": {
    "collapsed": false
   },
   "outputs": [
    {
     "data": {
      "image/png": "[encoded data removed]",
      "text/plain": [
       "<matplotlib.figure.Figure at 0x7fc641bdae10>"
      ]
     },
     "metadata": {},
     "output_type": "display_data"
    }
   ],
   "source": [
    "feat = net.blobs['conv1'].data[0, :36]\n",
    "vis_square(feat)"
   ]
  },
  {
   "cell_type": "markdown",
   "metadata": {},
   "source": [
    "* The fifth layer after pooling, `pool5`"
   ]
  },
  {
   "cell_type": "code",
   "execution_count": 21,
   "metadata": {
    "collapsed": false
   },
   "outputs": [
    {
     "ename": "KeyError",
     "evalue": "'pool5'",
     "output_type": "error",
     "traceback": [
      "\u001b[1;31m---------------------------------------------------------------------------\u001b[0m",
      "\u001b[1;31mKeyError\u001b[0m                                  Traceback (most recent call last)",
      "\u001b[1;32m<ipython-input-21-ea6596c6fcdb>\u001b[0m in \u001b[0;36m<module>\u001b[1;34m()\u001b[0m\n\u001b[1;32m----> 1\u001b[1;33m \u001b[0mfeat\u001b[0m \u001b[1;33m=\u001b[0m \u001b[0mnet\u001b[0m\u001b[1;33m.\u001b[0m\u001b[0mblobs\u001b[0m\u001b[1;33m[\u001b[0m\u001b[1;34m'pool5'\u001b[0m\u001b[1;33m]\u001b[0m\u001b[1;33m.\u001b[0m\u001b[0mdata\u001b[0m\u001b[1;33m[\u001b[0m\u001b[1;36m0\u001b[0m\u001b[1;33m]\u001b[0m\u001b[1;33m\u001b[0m\u001b[0m\n\u001b[0m\u001b[0;32m      2\u001b[0m \u001b[0mvis_square\u001b[0m\u001b[1;33m(\u001b[0m\u001b[0mfeat\u001b[0m\u001b[1;33m)\u001b[0m\u001b[1;33m\u001b[0m\u001b[0m\n",
      "\u001b[1;31mKeyError\u001b[0m: 'pool5'"
     ]
    }
   ],
   "source": [
    "feat = net.blobs['pool5'].data[0]\n",
    "vis_square(feat)"
   ]
  },
  {
   "cell_type": "markdown",
   "metadata": {},
   "source": [
    "* The first fully connected layer, `fc6` (rectified)\n",
    "\n",
    "    We show the output values and the histogram of the positive values"
   ]
  },
  {
   "cell_type": "code",
   "execution_count": 19,
   "metadata": {
    "collapsed": false
   },
   "outputs": [
    {
     "data": {
      "image/png": "[encoded data removed]",
      "text/plain": [
       "<matplotlib.figure.Figure at 0x7f43f9da3810>"
      ]
     },
     "metadata": {},
     "output_type": "display_data"
    }
   ],
   "source": [
    "feat = net.blobs['fc6'].data[0]\n",
    "plt.subplot(2, 1, 1)\n",
    "plt.plot(feat.flat)\n",
    "plt.subplot(2, 1, 2)\n",
    "_ = plt.hist(feat.flat[feat.flat > 0], bins=100)"
   ]
  },
  {
   "cell_type": "markdown",
   "metadata": {},
   "source": [
    "* The final probability output, `prob`"
   ]
  },
  {
   "cell_type": "code",
   "execution_count": 20,
   "metadata": {
    "collapsed": false
   },
   "outputs": [
    {
     "data": {
      "text/plain": [
       "[<matplotlib.lines.Line2D at 0x7f43e46db4d0>]"
      ]
     },
     "execution_count": 20,
     "metadata": {},
     "output_type": "execute_result"
    },
    {
     "data": {
      "image/png": "[encoded data removed]",
      "text/plain": [
       "<matplotlib.figure.Figure at 0x7f43f9dbf3d0>"
      ]
     },
     "metadata": {},
     "output_type": "display_data"
    }
   ],
   "source": [
    "feat = net.blobs['prob'].data[0]\n",
    "plt.figure(figsize=(15, 3))\n",
    "plt.plot(feat.flat)"
   ]
  },
  {
   "cell_type": "markdown",
   "metadata": {},
   "source": [
    "Note the cluster of strong predictions; the labels are sorted semantically. The top peaks correspond to the top predicted labels, as shown above."
   ]
  },
  {
   "cell_type": "markdown",
   "metadata": {},
   "source": [
    "### 6. Try your own image\n",
    "\n",
    "Now we'll grab an image from the web and classify it using the steps above.\n",
    "\n",
    "* Try setting `my_image_url` to any JPEG image URL."
   ]
  },
  {
   "cell_type": "code",
   "execution_count": null,
   "metadata": {
    "collapsed": true
   },
   "outputs": [],
   "source": []
  }
 ],
 "metadata": {
  "description": "Instant recognition with a pre-trained model and a tour of the net interface for visualizing features and parameters layer-by-layer.",
  "example_name": "Image Classification and Filter Visualization",
  "include_in_docs": true,
  "kernelspec": {
   "display_name": "Python [Root]",
   "language": "python",
   "name": "Python [Root]"
  },
  "language_info": {
   "codemirror_mode": {
    "name": "ipython",
    "version": 2
   },
   "file_extension": ".py",
   "mimetype": "text/x-python",
   "name": "python",
   "nbconvert_exporter": "python",
   "pygments_lexer": "ipython2",
   "version": "2.7.12"
  },
  "priority": 1
 },
 "nbformat": 4,
 "nbformat_minor": 0
}
